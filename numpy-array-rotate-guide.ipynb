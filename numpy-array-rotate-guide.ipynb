{
 "cells": [
  {
   "cell_type": "markdown",
   "metadata": {},
   "source": [
    "# A short tutorial on array reshape and rotation"
   ]
  },
  {
   "cell_type": "markdown",
   "metadata": {},
   "source": [
    "by [Marco Pascucci](https://github.com/mpascucci)\n",
    "\n",
    "Please consider the more readable [HTML version of this document](https://mpascucci.github.io/numpy-array-rotate-guide/index.html)"
   ]
  },
  {
   "cell_type": "markdown",
   "metadata": {},
   "source": [
    "Array reshaping and rotation can be confusing. in this short guide I will try to visualize what happens when using the numpy functions corresponding to these operations."
   ]
  },
  {
   "cell_type": "code",
   "execution_count": 25,
   "metadata": {},
   "outputs": [],
   "source": [
    "from IPython.display import HTML\n",
    "import numpy as np\n",
    "from html_3d_array import asvolume"
   ]
  },
  {
   "cell_type": "code",
   "execution_count": 26,
   "metadata": {},
   "outputs": [],
   "source": [
    "# Skip this cell.\n",
    "# Build an array for this tutorial.\n",
    "l=['♥','♣','♦','♠']\n",
    "# l=[x for x in l]\n",
    "p=np.vstack((l,l,l))\n",
    "a=np.stack((p,p),axis=1)"
   ]
  },
  {
   "cell_type": "markdown",
   "metadata": {},
   "source": [
    "# Reshape"
   ]
  },
  {
   "cell_type": "code",
   "execution_count": 27,
   "metadata": {},
   "outputs": [
    {
     "name": "stdout",
     "output_type": "stream",
     "text": [
      "[[['♥' '♣' '♦' '♠']\n",
      "  ['♥' '♣' '♦' '♠']]\n",
      "\n",
      " [['♥' '♣' '♦' '♠']\n",
      "  ['♥' '♣' '♦' '♠']]\n",
      "\n",
      " [['♥' '♣' '♦' '♠']\n",
      "  ['♥' '♣' '♦' '♠']]]\n",
      "shape: (3, 2, 4)\n",
      "dimensions: 3\n"
     ]
    }
   ],
   "source": [
    "# The tutorial starts with this 3D array\n",
    "# 3D means it has 3 dimensions.\n",
    "print(a)\n",
    "print(\"shape:\", a.shape)\n",
    "print(\"dimensions:\", len(a.shape))\n",
    "# We can think o"
   ]
  },
  {
   "cell_type": "code",
   "execution_count": 28,
   "metadata": {},
   "outputs": [
    {
     "name": "stdout",
     "output_type": "stream",
     "text": [
      "data: ♥♣♦♠♥♣♦♠♥♣♦♠♥♣♦♠♥♣♦♠♥♣♦♠\n"
     ]
    }
   ],
   "source": [
    "# reshape(...) gives a new shape to an array without changing its data.\n",
    "# The array dta is a flat sequence of characters registered somewhere in memory\n",
    "data = a.flatten()\n",
    "print(\"data:\", ''.join(data))"
   ]
  },
  {
   "cell_type": "markdown",
   "metadata": {},
   "source": [
    "An array can be reshaped only if the product of the dimensions is the same.\n",
    "for example:\n",
    "\n",
    "- (3,2,4) (3,4,2) (2,3,4) (2,3,4) (4,2,3) (4,3,2)\n",
    "\n",
    "are all valid shapes"
   ]
  },
  {
   "cell_type": "code",
   "execution_count": 29,
   "metadata": {},
   "outputs": [
    {
     "name": "stdout",
     "output_type": "stream",
     "text": [
      "♥♣♦♠\n",
      "♥♣♦♠\n",
      "♥♣♦♠\n",
      "\n",
      "♥♣♦♠\n",
      "♥♣♦♠\n",
      "♥♣♦♠\n",
      "\n",
      "[[['♥' '♣' '♦' '♠']\n",
      "  ['♥' '♣' '♦' '♠']\n",
      "  ['♥' '♣' '♦' '♠']]\n",
      "\n",
      " [['♥' '♣' '♦' '♠']\n",
      "  ['♥' '♣' '♦' '♠']\n",
      "  ['♥' '♣' '♦' '♠']]]\n"
     ]
    },
    {
     "data": {
      "text/html": [
       "<table><tr style='padding:3px!'><td style=padding:3px><text style=color:red>♥</text></td>&nbsp<td style=padding:3px><text style=color:blue>♣</text></td>&nbsp<td style=padding:3px><text style=color:green>♦</text></td>&nbsp<td style=padding:3px><text style=color:black>♠</text></td>&nbsp<td style=padding:3px><text style=color:black>&nbsp</text></td></tr><tr style='padding:3px!'><td style=padding:3px><text style=color:red>♥</text></td>&nbsp<td style=padding:3px><text style=color:red>♥</text></td>&nbsp<td style=padding:3px><text style=color:blue>♣</text></td>&nbsp<td style=padding:3px><text style=color:green>♦</text></td>&nbsp<td style=padding:3px><text style=color:black>♠</text></td></tr><tr style='padding:3px!'><td style=padding:3px><text style=color:red>♥</text></td>&nbsp<td style=padding:3px><text style=color:red>♥</text></td>&nbsp<td style=padding:3px><text style=color:blue>♣</text></td>&nbsp<td style=padding:3px><text style=color:green>♦</text></td>&nbsp<td style=padding:3px><text style=color:black>♠</text></td></tr><tr style='padding:3px!'><td style=padding:3px><text style=color:black>&nbsp</text></td>&nbsp<td style=padding:3px><text style=color:red>♥</text></td>&nbsp<td style=padding:3px><text style=color:blue>♣</text></td>&nbsp<td style=padding:3px><text style=color:green>♦</text></td>&nbsp<td style=padding:3px><text style=color:black>♠</text></td></tr></table>"
      ],
      "text/plain": [
       "<IPython.core.display.HTML object>"
      ]
     },
     "execution_count": 29,
     "metadata": {},
     "output_type": "execute_result"
    }
   ],
   "source": [
    "# let's do a reshape manually\n",
    "\n",
    "# new shape\n",
    "i=2\n",
    "j=3\n",
    "k=4\n",
    "\n",
    "# print the data in rows according to the new shape\n",
    "for z in range(i):\n",
    "    for y in range(j):\n",
    "        for x in range(k):\n",
    "            # take a value from the data\n",
    "            v=data[z*j*k + y*k + x]\n",
    "            print(v, end='')\n",
    "        print()\n",
    "    print()\n",
    "        \n",
    "# this is analougous to\n",
    "print(a.reshape(i,j,k))\n",
    "\n",
    "HTML(asvolume(a.reshape(i,j,k)))\n",
    "\n",
    "# and the same result can be obtained with np.moveaxis(a, 0, 1)"
   ]
  },
  {
   "cell_type": "markdown",
   "metadata": {},
   "source": [
    "What `reshape` does is just \"cut the array data according to the values ijk\".\n",
    "\n",
    "Fr example, we can not obtain the following volume by only reshaping 'a'... Try if you don't believe me."
   ]
  },
  {
   "cell_type": "code",
   "execution_count": 30,
   "metadata": {},
   "outputs": [
    {
     "data": {
      "text/html": [
       "<table><tr style='padding:3px!'><td style=padding:3px><text style=color:red>♥</text></td>&nbsp<td style=padding:3px><text style=color:red>♥</text></td>&nbsp<td style=padding:3px><text style=color:red>♥</text></td>&nbsp<td style=padding:3px><text style=color:black>&nbsp</text></td>&nbsp<td style=padding:3px><text style=color:black>&nbsp</text></td>&nbsp<td style=padding:3px><text style=color:black>&nbsp</text></td></tr><tr style='padding:3px!'><td style=padding:3px><text style=color:red>♥</text></td>&nbsp<td style=padding:3px><text style=color:blue>♣</text></td>&nbsp<td style=padding:3px><text style=color:blue>♣</text></td>&nbsp<td style=padding:3px><text style=color:blue>♣</text></td>&nbsp<td style=padding:3px><text style=color:black>&nbsp</text></td>&nbsp<td style=padding:3px><text style=color:black>&nbsp</text></td></tr><tr style='padding:3px!'><td style=padding:3px><text style=color:black>&nbsp</text></td>&nbsp<td style=padding:3px><text style=color:blue>♣</text></td>&nbsp<td style=padding:3px><text style=color:green>♦</text></td>&nbsp<td style=padding:3px><text style=color:green>♦</text></td>&nbsp<td style=padding:3px><text style=color:green>♦</text></td>&nbsp<td style=padding:3px><text style=color:black>&nbsp</text></td></tr><tr style='padding:3px!'><td style=padding:3px><text style=color:black>&nbsp</text></td>&nbsp<td style=padding:3px><text style=color:black>&nbsp</text></td>&nbsp<td style=padding:3px><text style=color:green>♦</text></td>&nbsp<td style=padding:3px><text style=color:black>♠</text></td>&nbsp<td style=padding:3px><text style=color:black>♠</text></td>&nbsp<td style=padding:3px><text style=color:black>♠</text></td></tr><tr style='padding:3px!'><td style=padding:3px><text style=color:black>&nbsp</text></td>&nbsp<td style=padding:3px><text style=color:black>&nbsp</text></td>&nbsp<td style=padding:3px><text style=color:black>&nbsp</text></td>&nbsp<td style=padding:3px><text style=color:black>♠</text></td>&nbsp<td style=padding:3px><text style=color:black>♠</text></td>&nbsp<td style=padding:3px><text style=color:black>♠</text></td></tr></table>"
      ],
      "text/plain": [
       "<IPython.core.display.HTML object>"
      ]
     },
     "execution_count": 30,
     "metadata": {},
     "output_type": "execute_result"
    }
   ],
   "source": [
    "HTML(asvolume(a.swapaxes(0,2)))"
   ]
  },
  {
   "cell_type": "markdown",
   "metadata": {},
   "source": [
    "# 3D volume rotation"
   ]
  },
  {
   "cell_type": "markdown",
   "metadata": {},
   "source": [
    "Take your time to learn to visualize 3D arrays as volumes.\n",
    "\n",
    "The following volume has $i$ pages, each page has $j$ rows and $k$ columns\n",
    "\n",
    "- the page index increases from first to last\n",
    "- the row index increases from top to bottom (in the page)\n",
    "- the column index increases from left to right (in the page)"
   ]
  },
  {
   "cell_type": "code",
   "execution_count": 31,
   "metadata": {},
   "outputs": [
    {
     "name": "stdout",
     "output_type": "stream",
     "text": [
      "[[['♥' '♣' '♦' '♠']\n",
      "  ['♥' '♣' '♦' '♠']]\n",
      "\n",
      " [['♥' '♣' '♦' '♠']\n",
      "  ['♥' '♣' '♦' '♠']]\n",
      "\n",
      " [['♥' '♣' '♦' '♠']\n",
      "  ['♥' '♣' '♦' '♠']]]\n"
     ]
    },
    {
     "data": {
      "text/html": [
       "<table><tr style='padding:3px!'><td style=padding:3px><text style=color:red>♥</text></td>&nbsp<td style=padding:3px><text style=color:blue>♣</text></td>&nbsp<td style=padding:3px><text style=color:green>♦</text></td>&nbsp<td style=padding:3px><text style=color:black>♠</text></td>&nbsp<td style=padding:3px><text style=color:black>&nbsp</text></td>&nbsp<td style=padding:3px><text style=color:black>&nbsp</text></td></tr><tr style='padding:3px!'><td style=padding:3px><text style=color:red>♥</text></td>&nbsp<td style=padding:3px><text style=color:red>♥</text></td>&nbsp<td style=padding:3px><text style=color:blue>♣</text></td>&nbsp<td style=padding:3px><text style=color:green>♦</text></td>&nbsp<td style=padding:3px><text style=color:black>♠</text></td>&nbsp<td style=padding:3px><text style=color:black>&nbsp</text></td></tr><tr style='padding:3px!'><td style=padding:3px><text style=color:black>&nbsp</text></td>&nbsp<td style=padding:3px><text style=color:red>♥</text></td>&nbsp<td style=padding:3px><text style=color:red>♥</text></td>&nbsp<td style=padding:3px><text style=color:blue>♣</text></td>&nbsp<td style=padding:3px><text style=color:green>♦</text></td>&nbsp<td style=padding:3px><text style=color:black>♠</text></td></tr><tr style='padding:3px!'><td style=padding:3px><text style=color:black>&nbsp</text></td>&nbsp<td style=padding:3px><text style=color:black>&nbsp</text></td>&nbsp<td style=padding:3px><text style=color:red>♥</text></td>&nbsp<td style=padding:3px><text style=color:blue>♣</text></td>&nbsp<td style=padding:3px><text style=color:green>♦</text></td>&nbsp<td style=padding:3px><text style=color:black>♠</text></td></tr></table>"
      ],
      "text/plain": [
       "<IPython.core.display.HTML object>"
      ]
     },
     "execution_count": 31,
     "metadata": {},
     "output_type": "execute_result"
    }
   ],
   "source": [
    "print(a)\n",
    "HTML(asvolume(a))"
   ]
  },
  {
   "cell_type": "markdown",
   "metadata": {},
   "source": [
    "This array has 3 dimensions: $i,j,k$ which can be rearranged in $3!=6$ permutations\n",
    "\n",
    "- $ijk$, $ikj$, $jik$, $jki$, $kij$, $kji$\n",
    "\n",
    "In 3D it can be seen as a parallelepiped, with 6 faces, which can be rotated so that we see a particular face in front of us.\n",
    "\n",
    "Each such rotation corresponds to a particular permutation of $i,j,k$\n",
    "\n",
    "The elementary operation that change the permutation of the index is an \"axis swap\" (e.g. ijk -> kji where `i` and `k` have been swapped).\n",
    "\n",
    "A ciclical shift of the axes corresponds to two successive swapping on two orthogonal faces\n",
    "\n",
    "- $ijk \\rightarrow jki = ijk \\rightarrow kji \\rightarrow jki$"
   ]
  },
  {
   "cell_type": "markdown",
   "metadata": {},
   "source": [
    "# Functions which apply volume rotations"
   ]
  },
  {
   "cell_type": "code",
   "execution_count": 32,
   "metadata": {},
   "outputs": [
    {
     "name": "stdout",
     "output_type": "stream",
     "text": [
      "[[['♥' '♥' '♥']\n",
      "  ['♥' '♥' '♥']]\n",
      "\n",
      " [['♣' '♣' '♣']\n",
      "  ['♣' '♣' '♣']]\n",
      "\n",
      " [['♦' '♦' '♦']\n",
      "  ['♦' '♦' '♦']]\n",
      "\n",
      " [['♠' '♠' '♠']\n",
      "  ['♠' '♠' '♠']]]\n",
      "data of array a: ♥♣♦♠♥♣♦♠♥♣♦♠♥♣♦♠♥♣♦♠♥♣♦♠\n",
      "data of array b: ♥♥♥♥♥♥♣♣♣♣♣♣♦♦♦♦♦♦♠♠♠♠♠♠\n"
     ]
    },
    {
     "data": {
      "text/html": [
       "<table><tr style='padding:3px!'><td style=padding:3px><text style=color:red>♥</text></td>&nbsp<td style=padding:3px><text style=color:red>♥</text></td>&nbsp<td style=padding:3px><text style=color:red>♥</text></td>&nbsp<td style=padding:3px><text style=color:black>&nbsp</text></td>&nbsp<td style=padding:3px><text style=color:black>&nbsp</text></td>&nbsp<td style=padding:3px><text style=color:black>&nbsp</text></td></tr><tr style='padding:3px!'><td style=padding:3px><text style=color:red>♥</text></td>&nbsp<td style=padding:3px><text style=color:blue>♣</text></td>&nbsp<td style=padding:3px><text style=color:blue>♣</text></td>&nbsp<td style=padding:3px><text style=color:blue>♣</text></td>&nbsp<td style=padding:3px><text style=color:black>&nbsp</text></td>&nbsp<td style=padding:3px><text style=color:black>&nbsp</text></td></tr><tr style='padding:3px!'><td style=padding:3px><text style=color:black>&nbsp</text></td>&nbsp<td style=padding:3px><text style=color:blue>♣</text></td>&nbsp<td style=padding:3px><text style=color:green>♦</text></td>&nbsp<td style=padding:3px><text style=color:green>♦</text></td>&nbsp<td style=padding:3px><text style=color:green>♦</text></td>&nbsp<td style=padding:3px><text style=color:black>&nbsp</text></td></tr><tr style='padding:3px!'><td style=padding:3px><text style=color:black>&nbsp</text></td>&nbsp<td style=padding:3px><text style=color:black>&nbsp</text></td>&nbsp<td style=padding:3px><text style=color:green>♦</text></td>&nbsp<td style=padding:3px><text style=color:black>♠</text></td>&nbsp<td style=padding:3px><text style=color:black>♠</text></td>&nbsp<td style=padding:3px><text style=color:black>♠</text></td></tr><tr style='padding:3px!'><td style=padding:3px><text style=color:black>&nbsp</text></td>&nbsp<td style=padding:3px><text style=color:black>&nbsp</text></td>&nbsp<td style=padding:3px><text style=color:black>&nbsp</text></td>&nbsp<td style=padding:3px><text style=color:black>♠</text></td>&nbsp<td style=padding:3px><text style=color:black>♠</text></td>&nbsp<td style=padding:3px><text style=color:black>♠</text></td></tr></table>"
      ],
      "text/plain": [
       "<IPython.core.display.HTML object>"
      ]
     },
     "execution_count": 32,
     "metadata": {},
     "output_type": "execute_result"
    }
   ],
   "source": [
    "# swapaxis can do wathever volume rotation. It interchanges two axes of an array.\n",
    "# here let's swap axis 0 and 2 (first and last)\n",
    "# 3,2,4 -> 4,2,3\n",
    "b=a.swapaxes(0,2)\n",
    "print(b)\n",
    "\n",
    "# The array data has changed \n",
    "print(\"data of array a:\", ''.join(a.flatten()))\n",
    "print(\"data of array b:\", ''.join(b.flatten()))\n",
    "HTML(asvolume(b))"
   ]
  },
  {
   "cell_type": "code",
   "execution_count": 33,
   "metadata": {},
   "outputs": [
    {
     "name": "stdout",
     "output_type": "stream",
     "text": [
      "[[['♥' '♥' '♥']\n",
      "  ['♥' '♥' '♥']]\n",
      "\n",
      " [['♣' '♣' '♣']\n",
      "  ['♣' '♣' '♣']]\n",
      "\n",
      " [['♦' '♦' '♦']\n",
      "  ['♦' '♦' '♦']]\n",
      "\n",
      " [['♠' '♠' '♠']\n",
      "  ['♠' '♠' '♠']]]\n"
     ]
    },
    {
     "data": {
      "text/html": [
       "<table><tr style='padding:3px!'><td style=padding:3px><text style=color:red>♥</text></td>&nbsp<td style=padding:3px><text style=color:red>♥</text></td>&nbsp<td style=padding:3px><text style=color:red>♥</text></td>&nbsp<td style=padding:3px><text style=color:black>&nbsp</text></td>&nbsp<td style=padding:3px><text style=color:black>&nbsp</text></td>&nbsp<td style=padding:3px><text style=color:black>&nbsp</text></td></tr><tr style='padding:3px!'><td style=padding:3px><text style=color:red>♥</text></td>&nbsp<td style=padding:3px><text style=color:blue>♣</text></td>&nbsp<td style=padding:3px><text style=color:blue>♣</text></td>&nbsp<td style=padding:3px><text style=color:blue>♣</text></td>&nbsp<td style=padding:3px><text style=color:black>&nbsp</text></td>&nbsp<td style=padding:3px><text style=color:black>&nbsp</text></td></tr><tr style='padding:3px!'><td style=padding:3px><text style=color:black>&nbsp</text></td>&nbsp<td style=padding:3px><text style=color:blue>♣</text></td>&nbsp<td style=padding:3px><text style=color:green>♦</text></td>&nbsp<td style=padding:3px><text style=color:green>♦</text></td>&nbsp<td style=padding:3px><text style=color:green>♦</text></td>&nbsp<td style=padding:3px><text style=color:black>&nbsp</text></td></tr><tr style='padding:3px!'><td style=padding:3px><text style=color:black>&nbsp</text></td>&nbsp<td style=padding:3px><text style=color:black>&nbsp</text></td>&nbsp<td style=padding:3px><text style=color:green>♦</text></td>&nbsp<td style=padding:3px><text style=color:black>♠</text></td>&nbsp<td style=padding:3px><text style=color:black>♠</text></td>&nbsp<td style=padding:3px><text style=color:black>♠</text></td></tr><tr style='padding:3px!'><td style=padding:3px><text style=color:black>&nbsp</text></td>&nbsp<td style=padding:3px><text style=color:black>&nbsp</text></td>&nbsp<td style=padding:3px><text style=color:black>&nbsp</text></td>&nbsp<td style=padding:3px><text style=color:black>♠</text></td>&nbsp<td style=padding:3px><text style=color:black>♠</text></td>&nbsp<td style=padding:3px><text style=color:black>♠</text></td></tr></table>"
      ],
      "text/plain": [
       "<IPython.core.display.HTML object>"
      ]
     },
     "execution_count": 33,
     "metadata": {},
     "output_type": "execute_result"
    }
   ],
   "source": [
    "# rot90(a, axes=(0,1))\n",
    "# Rotate an array by 90 degrees in the plane specified by axes.\n",
    "# Rotation direction is from the first towards the second axis.\n",
    "\n",
    "# it is equivalent to swapaxis(...) but with a more understandable logic\n",
    "\n",
    "b=np.rot90(a,axes=(2,0))\n",
    "print(b)\n",
    "HTML(asvolume(b))"
   ]
  },
  {
   "cell_type": "code",
   "execution_count": 34,
   "metadata": {},
   "outputs": [
    {
     "name": "stdout",
     "output_type": "stream",
     "text": [
      "[[['♠' '♠' '♠']\n",
      "  ['♠' '♠' '♠']]\n",
      "\n",
      " [['♦' '♦' '♦']\n",
      "  ['♦' '♦' '♦']]\n",
      "\n",
      " [['♣' '♣' '♣']\n",
      "  ['♣' '♣' '♣']]\n",
      "\n",
      " [['♥' '♥' '♥']\n",
      "  ['♥' '♥' '♥']]]\n"
     ]
    },
    {
     "data": {
      "text/html": [
       "<table><tr style='padding:3px!'><td style=padding:3px><text style=color:black>♠</text></td>&nbsp<td style=padding:3px><text style=color:black>♠</text></td>&nbsp<td style=padding:3px><text style=color:black>♠</text></td>&nbsp<td style=padding:3px><text style=color:black>&nbsp</text></td>&nbsp<td style=padding:3px><text style=color:black>&nbsp</text></td>&nbsp<td style=padding:3px><text style=color:black>&nbsp</text></td></tr><tr style='padding:3px!'><td style=padding:3px><text style=color:black>♠</text></td>&nbsp<td style=padding:3px><text style=color:green>♦</text></td>&nbsp<td style=padding:3px><text style=color:green>♦</text></td>&nbsp<td style=padding:3px><text style=color:green>♦</text></td>&nbsp<td style=padding:3px><text style=color:black>&nbsp</text></td>&nbsp<td style=padding:3px><text style=color:black>&nbsp</text></td></tr><tr style='padding:3px!'><td style=padding:3px><text style=color:black>&nbsp</text></td>&nbsp<td style=padding:3px><text style=color:green>♦</text></td>&nbsp<td style=padding:3px><text style=color:blue>♣</text></td>&nbsp<td style=padding:3px><text style=color:blue>♣</text></td>&nbsp<td style=padding:3px><text style=color:blue>♣</text></td>&nbsp<td style=padding:3px><text style=color:black>&nbsp</text></td></tr><tr style='padding:3px!'><td style=padding:3px><text style=color:black>&nbsp</text></td>&nbsp<td style=padding:3px><text style=color:black>&nbsp</text></td>&nbsp<td style=padding:3px><text style=color:blue>♣</text></td>&nbsp<td style=padding:3px><text style=color:red>♥</text></td>&nbsp<td style=padding:3px><text style=color:red>♥</text></td>&nbsp<td style=padding:3px><text style=color:red>♥</text></td></tr><tr style='padding:3px!'><td style=padding:3px><text style=color:black>&nbsp</text></td>&nbsp<td style=padding:3px><text style=color:black>&nbsp</text></td>&nbsp<td style=padding:3px><text style=color:black>&nbsp</text></td>&nbsp<td style=padding:3px><text style=color:red>♥</text></td>&nbsp<td style=padding:3px><text style=color:red>♥</text></td>&nbsp<td style=padding:3px><text style=color:red>♥</text></td></tr></table>"
      ],
      "text/plain": [
       "<IPython.core.display.HTML object>"
      ]
     },
     "execution_count": 34,
     "metadata": {},
     "output_type": "execute_result"
    }
   ],
   "source": [
    "# we can rotate in the opporsite direction and look the volume from behind\n",
    "# (look at the order of the symbols)\n",
    "b=np.rot90(a,axes=(0,2))\n",
    "print(b)\n",
    "HTML(asvolume(b))"
   ]
  },
  {
   "cell_type": "code",
   "execution_count": 35,
   "metadata": {},
   "outputs": [
    {
     "name": "stdout",
     "output_type": "stream",
     "text": [
      "[[['♠' '♠']\n",
      "  ['♠' '♠']\n",
      "  ['♠' '♠']]\n",
      "\n",
      " [['♦' '♦']\n",
      "  ['♦' '♦']\n",
      "  ['♦' '♦']]\n",
      "\n",
      " [['♣' '♣']\n",
      "  ['♣' '♣']\n",
      "  ['♣' '♣']]\n",
      "\n",
      " [['♥' '♥']\n",
      "  ['♥' '♥']\n",
      "  ['♥' '♥']]]\n"
     ]
    },
    {
     "data": {
      "text/html": [
       "<table><tr style='padding:3px!'><td style=padding:3px><text style=color:black>♠</text></td>&nbsp<td style=padding:3px><text style=color:black>♠</text></td>&nbsp<td style=padding:3px><text style=color:black>&nbsp</text></td>&nbsp<td style=padding:3px><text style=color:black>&nbsp</text></td>&nbsp<td style=padding:3px><text style=color:black>&nbsp</text></td></tr><tr style='padding:3px!'><td style=padding:3px><text style=color:black>♠</text></td>&nbsp<td style=padding:3px><text style=color:green>♦</text></td>&nbsp<td style=padding:3px><text style=color:green>♦</text></td>&nbsp<td style=padding:3px><text style=color:black>&nbsp</text></td>&nbsp<td style=padding:3px><text style=color:black>&nbsp</text></td></tr><tr style='padding:3px!'><td style=padding:3px><text style=color:black>♠</text></td>&nbsp<td style=padding:3px><text style=color:green>♦</text></td>&nbsp<td style=padding:3px><text style=color:blue>♣</text></td>&nbsp<td style=padding:3px><text style=color:blue>♣</text></td>&nbsp<td style=padding:3px><text style=color:black>&nbsp</text></td></tr><tr style='padding:3px!'><td style=padding:3px><text style=color:black>&nbsp</text></td>&nbsp<td style=padding:3px><text style=color:green>♦</text></td>&nbsp<td style=padding:3px><text style=color:blue>♣</text></td>&nbsp<td style=padding:3px><text style=color:red>♥</text></td>&nbsp<td style=padding:3px><text style=color:red>♥</text></td></tr><tr style='padding:3px!'><td style=padding:3px><text style=color:black>&nbsp</text></td>&nbsp<td style=padding:3px><text style=color:black>&nbsp</text></td>&nbsp<td style=padding:3px><text style=color:blue>♣</text></td>&nbsp<td style=padding:3px><text style=color:red>♥</text></td>&nbsp<td style=padding:3px><text style=color:red>♥</text></td></tr><tr style='padding:3px!'><td style=padding:3px><text style=color:black>&nbsp</text></td>&nbsp<td style=padding:3px><text style=color:black>&nbsp</text></td>&nbsp<td style=padding:3px><text style=color:black>&nbsp</text></td>&nbsp<td style=padding:3px><text style=color:red>♥</text></td>&nbsp<td style=padding:3px><text style=color:red>♥</text></td></tr></table>"
      ],
      "text/plain": [
       "<IPython.core.display.HTML object>"
      ]
     },
     "execution_count": 35,
     "metadata": {},
     "output_type": "execute_result"
    }
   ],
   "source": [
    "# then we might want to rotate it on its front face\n",
    "c=np.rot90(b,axes=(1,2))\n",
    "print(c) # rotate on front face\n",
    "HTML(asvolume(c))"
   ]
  },
  {
   "cell_type": "code",
   "execution_count": 36,
   "metadata": {},
   "outputs": [
    {
     "name": "stdout",
     "output_type": "stream",
     "text": [
      "[[['♥' '♥']\n",
      "  ['♥' '♥']\n",
      "  ['♥' '♥']]\n",
      "\n",
      " [['♣' '♣']\n",
      "  ['♣' '♣']\n",
      "  ['♣' '♣']]\n",
      "\n",
      " [['♦' '♦']\n",
      "  ['♦' '♦']\n",
      "  ['♦' '♦']]\n",
      "\n",
      " [['♠' '♠']\n",
      "  ['♠' '♠']\n",
      "  ['♠' '♠']]]\n"
     ]
    },
    {
     "data": {
      "text/html": [
       "<table><tr style='padding:3px!'><td style=padding:3px><text style=color:red>♥</text></td>&nbsp<td style=padding:3px><text style=color:red>♥</text></td>&nbsp<td style=padding:3px><text style=color:black>&nbsp</text></td>&nbsp<td style=padding:3px><text style=color:black>&nbsp</text></td>&nbsp<td style=padding:3px><text style=color:black>&nbsp</text></td></tr><tr style='padding:3px!'><td style=padding:3px><text style=color:red>♥</text></td>&nbsp<td style=padding:3px><text style=color:blue>♣</text></td>&nbsp<td style=padding:3px><text style=color:blue>♣</text></td>&nbsp<td style=padding:3px><text style=color:black>&nbsp</text></td>&nbsp<td style=padding:3px><text style=color:black>&nbsp</text></td></tr><tr style='padding:3px!'><td style=padding:3px><text style=color:red>♥</text></td>&nbsp<td style=padding:3px><text style=color:blue>♣</text></td>&nbsp<td style=padding:3px><text style=color:green>♦</text></td>&nbsp<td style=padding:3px><text style=color:green>♦</text></td>&nbsp<td style=padding:3px><text style=color:black>&nbsp</text></td></tr><tr style='padding:3px!'><td style=padding:3px><text style=color:black>&nbsp</text></td>&nbsp<td style=padding:3px><text style=color:blue>♣</text></td>&nbsp<td style=padding:3px><text style=color:green>♦</text></td>&nbsp<td style=padding:3px><text style=color:black>♠</text></td>&nbsp<td style=padding:3px><text style=color:black>♠</text></td></tr><tr style='padding:3px!'><td style=padding:3px><text style=color:black>&nbsp</text></td>&nbsp<td style=padding:3px><text style=color:black>&nbsp</text></td>&nbsp<td style=padding:3px><text style=color:green>♦</text></td>&nbsp<td style=padding:3px><text style=color:black>♠</text></td>&nbsp<td style=padding:3px><text style=color:black>♠</text></td></tr><tr style='padding:3px!'><td style=padding:3px><text style=color:black>&nbsp</text></td>&nbsp<td style=padding:3px><text style=color:black>&nbsp</text></td>&nbsp<td style=padding:3px><text style=color:black>&nbsp</text></td>&nbsp<td style=padding:3px><text style=color:black>♠</text></td>&nbsp<td style=padding:3px><text style=color:black>♠</text></td></tr></table>"
      ],
      "text/plain": [
       "<IPython.core.display.HTML object>"
      ]
     },
     "execution_count": 36,
     "metadata": {},
     "output_type": "execute_result"
    }
   ],
   "source": [
    "# Finally, the most powerful einsum\n",
    "# which can do rotations and much more.\n",
    "# np.einsum('abc->cba',a)\n",
    "b = np.einsum('abc->cab',a)\n",
    "print(b)\n",
    "HTML(asvolume(b))"
   ]
  },
  {
   "cell_type": "markdown",
   "metadata": {},
   "source": [
    "# A practical exercice"
   ]
  },
  {
   "cell_type": "code",
   "execution_count": 37,
   "metadata": {},
   "outputs": [
    {
     "name": "stdout",
     "output_type": "stream",
     "text": [
      "[['♥' '♥' '♥' '♥' '♥' '♥' '♥' '♥' '♥' '♥' '♥' '♥' '♥' '♥' '♥']\n",
      " ['♣' '♣' '♣' '♣' '♣' '♣' '♣' '♣' '♣' '♣' '♣' '♣' '♣' '♣' '♣']\n",
      " ['♦' '♦' '♦' '♦' '♦' '♦' '♦' '♦' '♦' '♦' '♦' '♦' '♦' '♦' '♦']\n",
      " ['♠' '♠' '♠' '♠' '♠' '♠' '♠' '♠' '♠' '♠' '♠' '♠' '♠' '♠' '♠']]\n",
      "\n",
      "[[['♥' '♥' '♥' '♥' '♥']\n",
      "  ['♦' '♦' '♦' '♦' '♦']\n",
      "  ['♣' '♣' '♣' '♣' '♣']\n",
      "  ['♠' '♠' '♠' '♠' '♠']]\n",
      "\n",
      " [['♥' '♥' '♥' '♥' '♥']\n",
      "  ['♦' '♦' '♦' '♦' '♦']\n",
      "  ['♣' '♣' '♣' '♣' '♣']\n",
      "  ['♠' '♠' '♠' '♠' '♠']]\n",
      "\n",
      " [['♥' '♥' '♥' '♥' '♥']\n",
      "  ['♦' '♦' '♦' '♦' '♦']\n",
      "  ['♣' '♣' '♣' '♣' '♣']\n",
      "  ['♠' '♠' '♠' '♠' '♠']]]\n"
     ]
    },
    {
     "data": {
      "text/html": [
       "<table><tr style='padding:3px!'><td style=padding:3px><text style=color:red>♥</text></td>&nbsp<td style=padding:3px><text style=color:red>♥</text></td>&nbsp<td style=padding:3px><text style=color:red>♥</text></td>&nbsp<td style=padding:3px><text style=color:red>♥</text></td>&nbsp<td style=padding:3px><text style=color:red>♥</text></td>&nbsp<td style=padding:3px><text style=color:black>&nbsp</text></td>&nbsp<td style=padding:3px><text style=color:black>&nbsp</text></td></tr><tr style='padding:3px!'><td style=padding:3px><text style=color:green>♦</text></td>&nbsp<td style=padding:3px><text style=color:red>♥</text></td>&nbsp<td style=padding:3px><text style=color:red>♥</text></td>&nbsp<td style=padding:3px><text style=color:red>♥</text></td>&nbsp<td style=padding:3px><text style=color:red>♥</text></td>&nbsp<td style=padding:3px><text style=color:red>♥</text></td>&nbsp<td style=padding:3px><text style=color:black>&nbsp</text></td></tr><tr style='padding:3px!'><td style=padding:3px><text style=color:blue>♣</text></td>&nbsp<td style=padding:3px><text style=color:green>♦</text></td>&nbsp<td style=padding:3px><text style=color:red>♥</text></td>&nbsp<td style=padding:3px><text style=color:red>♥</text></td>&nbsp<td style=padding:3px><text style=color:red>♥</text></td>&nbsp<td style=padding:3px><text style=color:red>♥</text></td>&nbsp<td style=padding:3px><text style=color:red>♥</text></td></tr><tr style='padding:3px!'><td style=padding:3px><text style=color:black>♠</text></td>&nbsp<td style=padding:3px><text style=color:blue>♣</text></td>&nbsp<td style=padding:3px><text style=color:green>♦</text></td>&nbsp<td style=padding:3px><text style=color:green>♦</text></td>&nbsp<td style=padding:3px><text style=color:green>♦</text></td>&nbsp<td style=padding:3px><text style=color:green>♦</text></td>&nbsp<td style=padding:3px><text style=color:green>♦</text></td></tr><tr style='padding:3px!'><td style=padding:3px><text style=color:black>&nbsp</text></td>&nbsp<td style=padding:3px><text style=color:black>♠</text></td>&nbsp<td style=padding:3px><text style=color:blue>♣</text></td>&nbsp<td style=padding:3px><text style=color:blue>♣</text></td>&nbsp<td style=padding:3px><text style=color:blue>♣</text></td>&nbsp<td style=padding:3px><text style=color:blue>♣</text></td>&nbsp<td style=padding:3px><text style=color:blue>♣</text></td></tr><tr style='padding:3px!'><td style=padding:3px><text style=color:black>&nbsp</text></td>&nbsp<td style=padding:3px><text style=color:black>&nbsp</text></td>&nbsp<td style=padding:3px><text style=color:black>♠</text></td>&nbsp<td style=padding:3px><text style=color:black>♠</text></td>&nbsp<td style=padding:3px><text style=color:black>♠</text></td>&nbsp<td style=padding:3px><text style=color:black>♠</text></td>&nbsp<td style=padding:3px><text style=color:black>♠</text></td></tr></table>"
      ],
      "text/plain": [
       "<IPython.core.display.HTML object>"
      ]
     },
     "execution_count": 37,
     "metadata": {},
     "output_type": "execute_result"
    }
   ],
   "source": [
    "# transform array 'u' (2D) into array 'v' (3D)\n",
    "\n",
    "u=np.array([['♥']*15, ['♣']*15, ['♦']*15, ['♠']*15])\n",
    "v=np.array([[['♥']*5, ['♦']*5, ['♣']*5, ['♠']*5]]*3 )\n",
    "\n",
    "print(u)\n",
    "print()\n",
    "print(v)\n",
    "HTML(asvolume(v))"
   ]
  },
  {
   "cell_type": "code",
   "execution_count": 38,
   "metadata": {},
   "outputs": [
    {
     "name": "stdout",
     "output_type": "stream",
     "text": [
      "[[['♥' '♥' '♥' '♥' '♥']\n",
      "  ['♥' '♥' '♥' '♥' '♥']\n",
      "  ['♥' '♥' '♥' '♥' '♥']]\n",
      "\n",
      " [['♣' '♣' '♣' '♣' '♣']\n",
      "  ['♣' '♣' '♣' '♣' '♣']\n",
      "  ['♣' '♣' '♣' '♣' '♣']]\n",
      "\n",
      " [['♦' '♦' '♦' '♦' '♦']\n",
      "  ['♦' '♦' '♦' '♦' '♦']\n",
      "  ['♦' '♦' '♦' '♦' '♦']]\n",
      "\n",
      " [['♠' '♠' '♠' '♠' '♠']\n",
      "  ['♠' '♠' '♠' '♠' '♠']\n",
      "  ['♠' '♠' '♠' '♠' '♠']]]\n"
     ]
    },
    {
     "data": {
      "text/html": [
       "<table><tr style='padding:3px!'><td style=padding:3px><text style=color:red>♥</text></td>&nbsp<td style=padding:3px><text style=color:red>♥</text></td>&nbsp<td style=padding:3px><text style=color:red>♥</text></td>&nbsp<td style=padding:3px><text style=color:red>♥</text></td>&nbsp<td style=padding:3px><text style=color:red>♥</text></td>&nbsp<td style=padding:3px><text style=color:black>&nbsp</text></td>&nbsp<td style=padding:3px><text style=color:black>&nbsp</text></td>&nbsp<td style=padding:3px><text style=color:black>&nbsp</text></td></tr><tr style='padding:3px!'><td style=padding:3px><text style=color:red>♥</text></td>&nbsp<td style=padding:3px><text style=color:blue>♣</text></td>&nbsp<td style=padding:3px><text style=color:blue>♣</text></td>&nbsp<td style=padding:3px><text style=color:blue>♣</text></td>&nbsp<td style=padding:3px><text style=color:blue>♣</text></td>&nbsp<td style=padding:3px><text style=color:blue>♣</text></td>&nbsp<td style=padding:3px><text style=color:black>&nbsp</text></td>&nbsp<td style=padding:3px><text style=color:black>&nbsp</text></td></tr><tr style='padding:3px!'><td style=padding:3px><text style=color:red>♥</text></td>&nbsp<td style=padding:3px><text style=color:blue>♣</text></td>&nbsp<td style=padding:3px><text style=color:green>♦</text></td>&nbsp<td style=padding:3px><text style=color:green>♦</text></td>&nbsp<td style=padding:3px><text style=color:green>♦</text></td>&nbsp<td style=padding:3px><text style=color:green>♦</text></td>&nbsp<td style=padding:3px><text style=color:green>♦</text></td>&nbsp<td style=padding:3px><text style=color:black>&nbsp</text></td></tr><tr style='padding:3px!'><td style=padding:3px><text style=color:black>&nbsp</text></td>&nbsp<td style=padding:3px><text style=color:blue>♣</text></td>&nbsp<td style=padding:3px><text style=color:green>♦</text></td>&nbsp<td style=padding:3px><text style=color:black>♠</text></td>&nbsp<td style=padding:3px><text style=color:black>♠</text></td>&nbsp<td style=padding:3px><text style=color:black>♠</text></td>&nbsp<td style=padding:3px><text style=color:black>♠</text></td>&nbsp<td style=padding:3px><text style=color:black>♠</text></td></tr><tr style='padding:3px!'><td style=padding:3px><text style=color:black>&nbsp</text></td>&nbsp<td style=padding:3px><text style=color:black>&nbsp</text></td>&nbsp<td style=padding:3px><text style=color:green>♦</text></td>&nbsp<td style=padding:3px><text style=color:black>♠</text></td>&nbsp<td style=padding:3px><text style=color:black>♠</text></td>&nbsp<td style=padding:3px><text style=color:black>♠</text></td>&nbsp<td style=padding:3px><text style=color:black>♠</text></td>&nbsp<td style=padding:3px><text style=color:black>♠</text></td></tr><tr style='padding:3px!'><td style=padding:3px><text style=color:black>&nbsp</text></td>&nbsp<td style=padding:3px><text style=color:black>&nbsp</text></td>&nbsp<td style=padding:3px><text style=color:black>&nbsp</text></td>&nbsp<td style=padding:3px><text style=color:black>♠</text></td>&nbsp<td style=padding:3px><text style=color:black>♠</text></td>&nbsp<td style=padding:3px><text style=color:black>♠</text></td>&nbsp<td style=padding:3px><text style=color:black>♠</text></td>&nbsp<td style=padding:3px><text style=color:black>♠</text></td></tr></table>"
      ],
      "text/plain": [
       "<IPython.core.display.HTML object>"
      ]
     },
     "execution_count": 38,
     "metadata": {},
     "output_type": "execute_result"
    }
   ],
   "source": [
    "# let's first reshape 'a' into a 3D shape\n",
    "# what we want is 3 pages of the same symbol\n",
    "w=u.reshape(4,3,5)\n",
    "print(w)\n",
    "HTML(asvolume(w))"
   ]
  },
  {
   "cell_type": "code",
   "execution_count": 39,
   "metadata": {},
   "outputs": [
    {
     "name": "stdout",
     "output_type": "stream",
     "text": [
      "[[['♥' '♥' '♥' '♥' '♥']\n",
      "  ['♣' '♣' '♣' '♣' '♣']\n",
      "  ['♦' '♦' '♦' '♦' '♦']\n",
      "  ['♠' '♠' '♠' '♠' '♠']]\n",
      "\n",
      " [['♥' '♥' '♥' '♥' '♥']\n",
      "  ['♣' '♣' '♣' '♣' '♣']\n",
      "  ['♦' '♦' '♦' '♦' '♦']\n",
      "  ['♠' '♠' '♠' '♠' '♠']]\n",
      "\n",
      " [['♥' '♥' '♥' '♥' '♥']\n",
      "  ['♣' '♣' '♣' '♣' '♣']\n",
      "  ['♦' '♦' '♦' '♦' '♦']\n",
      "  ['♠' '♠' '♠' '♠' '♠']]]\n"
     ]
    },
    {
     "data": {
      "text/html": [
       "<table><tr style='padding:3px!'><td style=padding:3px><text style=color:red>♥</text></td>&nbsp<td style=padding:3px><text style=color:red>♥</text></td>&nbsp<td style=padding:3px><text style=color:red>♥</text></td>&nbsp<td style=padding:3px><text style=color:red>♥</text></td>&nbsp<td style=padding:3px><text style=color:red>♥</text></td>&nbsp<td style=padding:3px><text style=color:black>&nbsp</text></td>&nbsp<td style=padding:3px><text style=color:black>&nbsp</text></td></tr><tr style='padding:3px!'><td style=padding:3px><text style=color:blue>♣</text></td>&nbsp<td style=padding:3px><text style=color:red>♥</text></td>&nbsp<td style=padding:3px><text style=color:red>♥</text></td>&nbsp<td style=padding:3px><text style=color:red>♥</text></td>&nbsp<td style=padding:3px><text style=color:red>♥</text></td>&nbsp<td style=padding:3px><text style=color:red>♥</text></td>&nbsp<td style=padding:3px><text style=color:black>&nbsp</text></td></tr><tr style='padding:3px!'><td style=padding:3px><text style=color:green>♦</text></td>&nbsp<td style=padding:3px><text style=color:blue>♣</text></td>&nbsp<td style=padding:3px><text style=color:red>♥</text></td>&nbsp<td style=padding:3px><text style=color:red>♥</text></td>&nbsp<td style=padding:3px><text style=color:red>♥</text></td>&nbsp<td style=padding:3px><text style=color:red>♥</text></td>&nbsp<td style=padding:3px><text style=color:red>♥</text></td></tr><tr style='padding:3px!'><td style=padding:3px><text style=color:black>♠</text></td>&nbsp<td style=padding:3px><text style=color:green>♦</text></td>&nbsp<td style=padding:3px><text style=color:blue>♣</text></td>&nbsp<td style=padding:3px><text style=color:blue>♣</text></td>&nbsp<td style=padding:3px><text style=color:blue>♣</text></td>&nbsp<td style=padding:3px><text style=color:blue>♣</text></td>&nbsp<td style=padding:3px><text style=color:blue>♣</text></td></tr><tr style='padding:3px!'><td style=padding:3px><text style=color:black>&nbsp</text></td>&nbsp<td style=padding:3px><text style=color:black>♠</text></td>&nbsp<td style=padding:3px><text style=color:green>♦</text></td>&nbsp<td style=padding:3px><text style=color:green>♦</text></td>&nbsp<td style=padding:3px><text style=color:green>♦</text></td>&nbsp<td style=padding:3px><text style=color:green>♦</text></td>&nbsp<td style=padding:3px><text style=color:green>♦</text></td></tr><tr style='padding:3px!'><td style=padding:3px><text style=color:black>&nbsp</text></td>&nbsp<td style=padding:3px><text style=color:black>&nbsp</text></td>&nbsp<td style=padding:3px><text style=color:black>♠</text></td>&nbsp<td style=padding:3px><text style=color:black>♠</text></td>&nbsp<td style=padding:3px><text style=color:black>♠</text></td>&nbsp<td style=padding:3px><text style=color:black>♠</text></td>&nbsp<td style=padding:3px><text style=color:black>♠</text></td></tr></table>"
      ],
      "text/plain": [
       "<IPython.core.display.HTML object>"
      ]
     },
     "execution_count": 39,
     "metadata": {},
     "output_type": "execute_result"
    }
   ],
   "source": [
    "# now what we have to do is just rotate the volume\n",
    "# we send the first axes (pointing at you from the first to the last page) into the second axis (page rows, top to bottom)\n",
    "t=np.rot90(w,axes=(0,1))\n",
    "print(t)\n",
    "HTML(asvolume(t))"
   ]
  },
  {
   "cell_type": "markdown",
   "metadata": {},
   "source": [
    "# with numbers"
   ]
  },
  {
   "cell_type": "code",
   "execution_count": 40,
   "metadata": {},
   "outputs": [
    {
     "data": {
      "text/html": [
       "<table><tr style='padding:3px!'><td style=padding:3px><text style=color:black>22</text></td>&nbsp<td style=padding:3px><text style=color:black>22</text></td>&nbsp<td style=padding:3px><text style=color:black>22</text></td>&nbsp<td style=padding:3px><text style=color:black>22</text></td>&nbsp<td style=padding:3px><text style=color:black>22</text></td>&nbsp<td style=padding:3px><text style=color:black>&nbsp</text></td>&nbsp<td style=padding:3px><text style=color:black>&nbsp</text></td>&nbsp<td style=padding:3px><text style=color:black>&nbsp</text></td></tr><tr style='padding:3px!'><td style=padding:3px><text style=color:black>22</text></td>&nbsp<td style=padding:3px><text style=color:blue>27</text></td>&nbsp<td style=padding:3px><text style=color:blue>27</text></td>&nbsp<td style=padding:3px><text style=color:blue>27</text></td>&nbsp<td style=padding:3px><text style=color:blue>27</text></td>&nbsp<td style=padding:3px><text style=color:blue>27</text></td>&nbsp<td style=padding:3px><text style=color:black>&nbsp</text></td>&nbsp<td style=padding:3px><text style=color:black>&nbsp</text></td></tr><tr style='padding:3px!'><td style=padding:3px><text style=color:black>22</text></td>&nbsp<td style=padding:3px><text style=color:blue>27</text></td>&nbsp<td style=padding:3px><text style=color:red>32</text></td>&nbsp<td style=padding:3px><text style=color:red>32</text></td>&nbsp<td style=padding:3px><text style=color:red>32</text></td>&nbsp<td style=padding:3px><text style=color:red>32</text></td>&nbsp<td style=padding:3px><text style=color:red>32</text></td>&nbsp<td style=padding:3px><text style=color:black>&nbsp</text></td></tr><tr style='padding:3px!'><td style=padding:3px><text style=color:black>&nbsp</text></td>&nbsp<td style=padding:3px><text style=color:blue>27</text></td>&nbsp<td style=padding:3px><text style=color:red>32</text></td>&nbsp<td style=padding:3px><text style=color:green>37</text></td>&nbsp<td style=padding:3px><text style=color:green>37</text></td>&nbsp<td style=padding:3px><text style=color:green>37</text></td>&nbsp<td style=padding:3px><text style=color:green>37</text></td>&nbsp<td style=padding:3px><text style=color:green>37</text></td></tr><tr style='padding:3px!'><td style=padding:3px><text style=color:black>&nbsp</text></td>&nbsp<td style=padding:3px><text style=color:black>&nbsp</text></td>&nbsp<td style=padding:3px><text style=color:red>32</text></td>&nbsp<td style=padding:3px><text style=color:green>37</text></td>&nbsp<td style=padding:3px><text style=color:green>37</text></td>&nbsp<td style=padding:3px><text style=color:green>37</text></td>&nbsp<td style=padding:3px><text style=color:green>37</text></td>&nbsp<td style=padding:3px><text style=color:green>37</text></td></tr><tr style='padding:3px!'><td style=padding:3px><text style=color:black>&nbsp</text></td>&nbsp<td style=padding:3px><text style=color:black>&nbsp</text></td>&nbsp<td style=padding:3px><text style=color:black>&nbsp</text></td>&nbsp<td style=padding:3px><text style=color:green>37</text></td>&nbsp<td style=padding:3px><text style=color:green>37</text></td>&nbsp<td style=padding:3px><text style=color:green>37</text></td>&nbsp<td style=padding:3px><text style=color:green>37</text></td>&nbsp<td style=padding:3px><text style=color:green>37</text></td></tr></table>"
      ],
      "text/plain": [
       "<IPython.core.display.HTML object>"
      ]
     },
     "execution_count": 40,
     "metadata": {},
     "output_type": "execute_result"
    }
   ],
   "source": [
    "u=np.array([[22]*15, [27]*15, [32]*15, [37]*15])\n",
    "v=u.reshape(4,3,5)\n",
    "HTML(asvolume(v))"
   ]
  },
  {
   "cell_type": "code",
   "execution_count": 41,
   "metadata": {},
   "outputs": [
    {
     "data": {
      "text/html": [
       "<table><tr style='padding:3px!'><td style=padding:3px><text style=color:black>22</text></td>&nbsp<td style=padding:3px><text style=color:black>22</text></td>&nbsp<td style=padding:3px><text style=color:black>22</text></td>&nbsp<td style=padding:3px><text style=color:black>22</text></td>&nbsp<td style=padding:3px><text style=color:black>22</text></td>&nbsp<td style=padding:3px><text style=color:black>&nbsp</text></td>&nbsp<td style=padding:3px><text style=color:black>&nbsp</text></td></tr><tr style='padding:3px!'><td style=padding:3px><text style=color:blue>27</text></td>&nbsp<td style=padding:3px><text style=color:black>22</text></td>&nbsp<td style=padding:3px><text style=color:black>22</text></td>&nbsp<td style=padding:3px><text style=color:black>22</text></td>&nbsp<td style=padding:3px><text style=color:black>22</text></td>&nbsp<td style=padding:3px><text style=color:black>22</text></td>&nbsp<td style=padding:3px><text style=color:black>&nbsp</text></td></tr><tr style='padding:3px!'><td style=padding:3px><text style=color:red>32</text></td>&nbsp<td style=padding:3px><text style=color:blue>27</text></td>&nbsp<td style=padding:3px><text style=color:black>22</text></td>&nbsp<td style=padding:3px><text style=color:black>22</text></td>&nbsp<td style=padding:3px><text style=color:black>22</text></td>&nbsp<td style=padding:3px><text style=color:black>22</text></td>&nbsp<td style=padding:3px><text style=color:black>22</text></td></tr><tr style='padding:3px!'><td style=padding:3px><text style=color:green>37</text></td>&nbsp<td style=padding:3px><text style=color:red>32</text></td>&nbsp<td style=padding:3px><text style=color:blue>27</text></td>&nbsp<td style=padding:3px><text style=color:blue>27</text></td>&nbsp<td style=padding:3px><text style=color:blue>27</text></td>&nbsp<td style=padding:3px><text style=color:blue>27</text></td>&nbsp<td style=padding:3px><text style=color:blue>27</text></td></tr><tr style='padding:3px!'><td style=padding:3px><text style=color:black>&nbsp</text></td>&nbsp<td style=padding:3px><text style=color:green>37</text></td>&nbsp<td style=padding:3px><text style=color:red>32</text></td>&nbsp<td style=padding:3px><text style=color:red>32</text></td>&nbsp<td style=padding:3px><text style=color:red>32</text></td>&nbsp<td style=padding:3px><text style=color:red>32</text></td>&nbsp<td style=padding:3px><text style=color:red>32</text></td></tr><tr style='padding:3px!'><td style=padding:3px><text style=color:black>&nbsp</text></td>&nbsp<td style=padding:3px><text style=color:black>&nbsp</text></td>&nbsp<td style=padding:3px><text style=color:green>37</text></td>&nbsp<td style=padding:3px><text style=color:green>37</text></td>&nbsp<td style=padding:3px><text style=color:green>37</text></td>&nbsp<td style=padding:3px><text style=color:green>37</text></td>&nbsp<td style=padding:3px><text style=color:green>37</text></td></tr></table>"
      ],
      "text/plain": [
       "<IPython.core.display.HTML object>"
      ]
     },
     "execution_count": 41,
     "metadata": {},
     "output_type": "execute_result"
    }
   ],
   "source": [
    "HTML(asvolume(np.rot90(v,axes=(0,1)), color=True))"
   ]
  }
 ],
 "metadata": {
  "kernelspec": {
   "display_name": "Environment (virtualenv_py3marco)",
   "language": "python",
   "name": "virtualenv_py3marco"
  },
  "language_info": {
   "codemirror_mode": {
    "name": "ipython",
    "version": 3
   },
   "file_extension": ".py",
   "mimetype": "text/x-python",
   "name": "python",
   "nbconvert_exporter": "python",
   "pygments_lexer": "ipython3",
   "version": "3.8.6"
  }
 },
 "nbformat": 4,
 "nbformat_minor": 4
}
